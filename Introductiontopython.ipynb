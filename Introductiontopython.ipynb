{
  "nbformat": 4,
  "nbformat_minor": 0,
  "metadata": {
    "colab": {
      "name": "Introductiontopython.jpynb",
      "provenance": []
    },
    "kernelspec": {
      "name": "python3",
      "display_name": "Python 3"
    },
    "language_info": {
      "name": "python"
    }
  },
  "cells": [
    {
      "cell_type": "markdown",
      "metadata": {
        "id": "vchiq7GHf7_X"
      },
      "source": [
        "# **The history of python**\n",
        "![pytonh logo](https://cosasdedevs.com/media/sections/images/python.png)\n",
        "---\n",
        "Is a widely-used general-purpose, high-level programming language, designed by Guido van Rossum in 1991. Guido Van Rossum began doing its application based work in December of 1989 at Centrum Wiskunde & Informatica (CWI) which is situated in the Netherland. It was started firstly as a hobby project because he was looking for an interesting project to keep him occupied during Christmas. The programming language which Python is said to have succeeded is ABC Programming Language, which had interfacing with the Amoeba Operating System and had the feature of exception handling. He had already helped to create ABC earlier in his career and he had seen some issues with ABC but liked most of the features. The inspiration for the name came from BBC’s TV Show – ‘Monty Python’s Flying Circus, as he was a big fan of the TV show and also he wanted a short, unique and slightly mysterious name for his invention and hence he named it Python!. The language was finally released in 1991 and the main objective is to provide code readability and advanced developer productivity.\n",
        "\n",
        "\n",
        "---\n",
        "## ***all versions of python to up now***\n",
        "![python](https://static.platzi.com/media/user_upload/Screenshot%202018-03-13%2012.48.13-01079644-e964-4775-a73e-60f414a4e149.jpg)\n",
        "\n",
        "\n",
        "\n",
        "---"
      ]
    },
    {
      "cell_type": "markdown",
      "metadata": {
        "id": "g4zAsdHemSLV"
      },
      "source": [
        "#***Introduccion to python*** \n",
        "#**print statement**\n",
        "The PRINT statement sends data to the display terminal or to another specified print unit.\n",
        "\n",
        "**Example:**\n",
        "\n",
        "\n",
        ">\n",
        "\n",
        "\n"
      ]
    },
    {
      "cell_type": "code",
      "metadata": {
        "id": "I31n5p3hf4C9"
      },
      "source": [
        "a= \"ENTER YOUR NUMBER PHONE:822222 \"  \n",
        "b= \"SEND A MESSAGE: HI GOOD MORNING\" \n",
        "print(a)\n",
        "\n",
        "   "
      ],
      "execution_count": null,
      "outputs": []
    },
    {
      "cell_type": "markdown",
      "metadata": {
        "id": "IgcbnaggwWg1"
      },
      "source": [
        "#**if-else**\n",
        "Decision making is required when we want to execute a code only if a certain condition is satisfied.\n",
        "\n",
        "The if…elif…else statement is used in Python for decision making.\n",
        "\n",
        "**Example**"
      ]
    },
    {
      "cell_type": "code",
      "metadata": {
        "id": "6iChaInrx9EB"
      },
      "source": [
        "num = 4\n",
        "if num > 0:\n",
        "    print(num, \"is a positive number.\")\n",
        "print(\"This is always printed.\")\n",
        "\n",
        "num = -1\n",
        "if num > 0:\n",
        "    print(num, \"is a positive number.\")\n",
        "print(\"This is also always printed.\")"
      ],
      "execution_count": null,
      "outputs": []
    },
    {
      "cell_type": "markdown",
      "metadata": {
        "id": "3anaTEAeykeq"
      },
      "source": [
        "#**Loops**\n",
        "For loop is used for iterating over a sequence (that is either a list, a tuple, a dictionary, a set, or a string).\n",
        "\n",
        "This is less like the for keyword in other programming languages, and works more like an iterator method as found in other object-orientated programming languages.\n",
        "\n",
        "With the for loop we can execute a set of statements, once for each item in a list, tuple, set etc.\n",
        "\n",
        "**example**\n"
      ]
    },
    {
      "cell_type": "code",
      "metadata": {
        "id": "3HWGV7W01rtv"
      },
      "source": [
        "food = [\"tacos\", \"birria\", \"tortas\"]\n",
        "for x in food:\n",
        "  print(x)"
      ],
      "execution_count": null,
      "outputs": []
    },
    {
      "cell_type": "code",
      "metadata": {
        "id": "VXhFSjt93D5p"
      },
      "source": [
        "for x in range(20):\n",
        "  print(x) \n"
      ],
      "execution_count": null,
      "outputs": []
    }
  ]
}